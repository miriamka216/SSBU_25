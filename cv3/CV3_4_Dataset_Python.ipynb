{
 "cells": [
  {
   "metadata": {},
   "cell_type": "markdown",
   "source": [
    "# **SSBU CV3: Práca s datasetom v Pythone**\n",
    "\n",
    "Datasety z verejne dostupných databáz je možné získavať aj priamo z jazyka Python. Pre načítanie datasetu použijeme databázu Kaggle.\n",
    "\n",
    "---\n",
    "\n",
    "## **1. Inštalácia potrebných knižníc**\n",
    "Pre prácu s databázou **Kaggle** a jednoduché sťahovanie datasetov priamo z jazyka Python je vhodné nainštalovať knižnicu **kagglehub**.\n",
    "\n",
    "Pre prácu s dátami v tabuľkovej forme pomocou **DataFrame** je potrebné mať nainštalovanú knižnicu **pandas**.\n",
    "\n",
    "Pre vizualizáciu dát pomocou grafov je vhodné použiť knižnicu **matplotlib**.\n"
   ],
   "id": "8b451469998e80f6"
  },
  {
   "metadata": {
    "ExecuteTime": {
     "end_time": "2025-03-06T08:12:47.230924Z",
     "start_time": "2025-03-06T08:12:08.959277Z"
    }
   },
   "cell_type": "code",
   "source": " pip install kagglehub pandas matplotlib",
   "id": "c3857a6d95fd5038",
   "outputs": [
    {
     "name": "stdout",
     "output_type": "stream",
     "text": [
      "Collecting kagglehub\n",
      "  Downloading kagglehub-0.3.10-py3-none-any.whl.metadata (31 kB)\n",
      "Requirement already satisfied: pandas in c:\\users\\oem\\appdata\\local\\programs\\python\\python312\\lib\\site-packages (2.2.3)\n",
      "Collecting matplotlib\n",
      "  Downloading matplotlib-3.10.1-cp312-cp312-win_amd64.whl.metadata (11 kB)\n",
      "Requirement already satisfied: packaging in c:\\users\\oem\\appdata\\local\\programs\\python\\python312\\lib\\site-packages (from kagglehub) (24.2)\n",
      "Requirement already satisfied: pyyaml in c:\\users\\oem\\appdata\\local\\programs\\python\\python312\\lib\\site-packages (from kagglehub) (6.0.2)\n",
      "Requirement already satisfied: requests in c:\\users\\oem\\appdata\\local\\programs\\python\\python312\\lib\\site-packages (from kagglehub) (2.32.3)\n",
      "Collecting tqdm (from kagglehub)\n",
      "  Downloading tqdm-4.67.1-py3-none-any.whl.metadata (57 kB)\n",
      "     ---------------------------------------- 0.0/57.7 kB ? eta -:--:--\n",
      "     ----------------------------------- ---- 51.2/57.7 kB 1.3 MB/s eta 0:00:01\n",
      "     ---------------------------------------- 57.7/57.7 kB 1.5 MB/s eta 0:00:00\n",
      "Requirement already satisfied: numpy>=1.26.0 in c:\\users\\oem\\appdata\\local\\programs\\python\\python312\\lib\\site-packages (from pandas) (2.2.3)\n",
      "Requirement already satisfied: python-dateutil>=2.8.2 in c:\\users\\oem\\appdata\\local\\programs\\python\\python312\\lib\\site-packages (from pandas) (2.9.0.post0)\n",
      "Requirement already satisfied: pytz>=2020.1 in c:\\users\\oem\\appdata\\local\\programs\\python\\python312\\lib\\site-packages (from pandas) (2025.1)\n",
      "Requirement already satisfied: tzdata>=2022.7 in c:\\users\\oem\\appdata\\local\\programs\\python\\python312\\lib\\site-packages (from pandas) (2025.1)\n",
      "Collecting contourpy>=1.0.1 (from matplotlib)\n",
      "  Downloading contourpy-1.3.1-cp312-cp312-win_amd64.whl.metadata (5.4 kB)\n",
      "Collecting cycler>=0.10 (from matplotlib)\n",
      "  Downloading cycler-0.12.1-py3-none-any.whl.metadata (3.8 kB)\n",
      "Collecting fonttools>=4.22.0 (from matplotlib)\n",
      "  Downloading fonttools-4.56.0-cp312-cp312-win_amd64.whl.metadata (103 kB)\n",
      "     ---------------------------------------- 0.0/104.0 kB ? eta -:--:--\n",
      "     -------------------------------------- 104.0/104.0 kB 5.9 MB/s eta 0:00:00\n",
      "Collecting kiwisolver>=1.3.1 (from matplotlib)\n",
      "  Downloading kiwisolver-1.4.8-cp312-cp312-win_amd64.whl.metadata (6.3 kB)\n",
      "Requirement already satisfied: pillow>=8 in c:\\users\\oem\\appdata\\local\\programs\\python\\python312\\lib\\site-packages (from matplotlib) (11.1.0)\n",
      "Collecting pyparsing>=2.3.1 (from matplotlib)\n",
      "  Downloading pyparsing-3.2.1-py3-none-any.whl.metadata (5.0 kB)\n",
      "Requirement already satisfied: six>=1.5 in c:\\users\\oem\\appdata\\local\\programs\\python\\python312\\lib\\site-packages (from python-dateutil>=2.8.2->pandas) (1.17.0)\n",
      "Requirement already satisfied: charset-normalizer<4,>=2 in c:\\users\\oem\\appdata\\local\\programs\\python\\python312\\lib\\site-packages (from requests->kagglehub) (3.4.1)\n",
      "Requirement already satisfied: idna<4,>=2.5 in c:\\users\\oem\\appdata\\local\\programs\\python\\python312\\lib\\site-packages (from requests->kagglehub) (3.10)\n",
      "Requirement already satisfied: urllib3<3,>=1.21.1 in c:\\users\\oem\\appdata\\local\\programs\\python\\python312\\lib\\site-packages (from requests->kagglehub) (2.3.0)\n",
      "Requirement already satisfied: certifi>=2017.4.17 in c:\\users\\oem\\appdata\\local\\programs\\python\\python312\\lib\\site-packages (from requests->kagglehub) (2025.1.31)\n",
      "Requirement already satisfied: colorama in c:\\users\\oem\\appdata\\local\\programs\\python\\python312\\lib\\site-packages (from tqdm->kagglehub) (0.4.6)\n",
      "Downloading kagglehub-0.3.10-py3-none-any.whl (63 kB)\n",
      "   ---------------------------------------- 0.0/63.0 kB ? eta -:--:--\n",
      "   ---------------------------------------- 63.0/63.0 kB 3.5 MB/s eta 0:00:00\n",
      "Downloading matplotlib-3.10.1-cp312-cp312-win_amd64.whl (8.1 MB)\n",
      "   ---------------------------------------- 0.0/8.1 MB ? eta -:--:--\n",
      "   --- ------------------------------------ 0.8/8.1 MB 15.9 MB/s eta 0:00:01\n",
      "   ---------- ----------------------------- 2.2/8.1 MB 22.9 MB/s eta 0:00:01\n",
      "   ----------------- ---------------------- 3.5/8.1 MB 24.7 MB/s eta 0:00:01\n",
      "   --------------------- ------------------ 4.3/8.1 MB 23.0 MB/s eta 0:00:01\n",
      "   ---------------------------------- ----- 7.0/8.1 MB 29.9 MB/s eta 0:00:01\n",
      "   ---------------------------------------  8.1/8.1 MB 30.3 MB/s eta 0:00:01\n",
      "   ---------------------------------------- 8.1/8.1 MB 25.7 MB/s eta 0:00:00\n",
      "Downloading contourpy-1.3.1-cp312-cp312-win_amd64.whl (220 kB)\n",
      "   ---------------------------------------- 0.0/221.0 kB ? eta -:--:--\n",
      "   --------------------------------------- 221.0/221.0 kB 14.0 MB/s eta 0:00:00\n",
      "Downloading cycler-0.12.1-py3-none-any.whl (8.3 kB)\n",
      "Downloading fonttools-4.56.0-cp312-cp312-win_amd64.whl (2.2 MB)\n",
      "   ---------------------------------------- 0.0/2.2 MB ? eta -:--:--\n",
      "   ------------------------- -------------- 1.4/2.2 MB 29.6 MB/s eta 0:00:01\n",
      "   ---------------------------------------  2.2/2.2 MB 27.8 MB/s eta 0:00:01\n",
      "   ---------------------------------------- 2.2/2.2 MB 19.8 MB/s eta 0:00:00\n",
      "Downloading kiwisolver-1.4.8-cp312-cp312-win_amd64.whl (71 kB)\n",
      "   ---------------------------------------- 0.0/71.9 kB ? eta -:--:--\n",
      "   ---------------------------------------- 71.9/71.9 kB ? eta 0:00:00\n",
      "Downloading pyparsing-3.2.1-py3-none-any.whl (107 kB)\n",
      "   ---------------------------------------- 0.0/107.7 kB ? eta -:--:--\n",
      "   ---------------------------------------- 107.7/107.7 kB 6.1 MB/s eta 0:00:00\n",
      "Downloading tqdm-4.67.1-py3-none-any.whl (78 kB)\n",
      "   ---------------------------------------- 0.0/78.5 kB ? eta -:--:--\n",
      "   ---------------------------------------- 78.5/78.5 kB 4.3 MB/s eta 0:00:00\n",
      "Installing collected packages: tqdm, pyparsing, kiwisolver, fonttools, cycler, contourpy, matplotlib, kagglehub\n",
      "Successfully installed contourpy-1.3.1 cycler-0.12.1 fonttools-4.56.0 kagglehub-0.3.10 kiwisolver-1.4.8 matplotlib-3.10.1 pyparsing-3.2.1 tqdm-4.67.1\n",
      "Note: you may need to restart the kernel to use updated packages.\n"
     ]
    },
    {
     "name": "stderr",
     "output_type": "stream",
     "text": [
      "\n",
      "[notice] A new release of pip is available: 24.0 -> 25.0.1\n",
      "[notice] To update, run: C:\\Users\\OEM\\AppData\\Local\\Programs\\Python\\Python312\\python.exe -m pip install --upgrade pip\n"
     ]
    }
   ],
   "execution_count": 1
  },
  {
   "metadata": {},
   "cell_type": "markdown",
   "source": [
    "---\n",
    "\n",
    "## **2. Načítanie datasetu z databázy Kaggle**\n",
    "Použijeme dataset [**remote-work-and-mental-health**](https://www.kaggle.com/datasets/waqi786/remote-work-and-mental-health) dostupný v databáze [**Kaggle**](https://www.kaggle.com/). Dataset obsahuje informácie o vplyve práce na diaľku na duševné zdravie človeka.\n",
    "\n",
    "Dataset sa uloží na predvolenú lokalitu nastavenú knižnicou.\n"
   ],
   "id": "e507af774d6456c0"
  },
  {
   "metadata": {
    "ExecuteTime": {
     "end_time": "2025-03-06T08:13:04.957042Z",
     "start_time": "2025-03-06T08:13:00.629143Z"
    }
   },
   "cell_type": "code",
   "source": [
    "import os\n",
    "import kagglehub\n",
    "\n",
    "# download the dataser\n",
    "dataset_path = kagglehub.dataset_download(\"waqi786/remote-work-and-mental-health\")\n",
    "\n",
    "print(\"Path:\", dataset_path)"
   ],
   "id": "f24228ed27c734ff",
   "outputs": [
    {
     "name": "stderr",
     "output_type": "stream",
     "text": [
      "C:\\Users\\OEM\\AppData\\Local\\Programs\\Python\\Python312\\Lib\\site-packages\\tqdm\\auto.py:21: TqdmWarning: IProgress not found. Please update jupyter and ipywidgets. See https://ipywidgets.readthedocs.io/en/stable/user_install.html\n",
      "  from .autonotebook import tqdm as notebook_tqdm\n"
     ]
    },
    {
     "name": "stdout",
     "output_type": "stream",
     "text": [
      "Downloading from https://www.kaggle.com/api/v1/datasets/download/waqi786/remote-work-and-mental-health?dataset_version_number=1...\n"
     ]
    },
    {
     "name": "stderr",
     "output_type": "stream",
     "text": [
      "100%|██████████| 93.0k/93.0k [00:00<00:00, 533kB/s]"
     ]
    },
    {
     "name": "stdout",
     "output_type": "stream",
     "text": [
      "Extracting files...\n",
      "Path: C:\\Users\\OEM\\.cache\\kagglehub\\datasets\\waqi786\\remote-work-and-mental-health\\versions\\1\n"
     ]
    },
    {
     "name": "stderr",
     "output_type": "stream",
     "text": [
      "\n"
     ]
    }
   ],
   "execution_count": 2
  },
  {
   "metadata": {},
   "cell_type": "markdown",
   "source": [
    "---\n",
    "\n",
    "## **3. Načítanie datasetu do Pandas DataFrame**\n",
    "Dataset je vo formáte **CSV**, preto použijeme knižnicu **pandas** na jeho načítanie.\n",
    "\n",
    "Na spájanie ciest v súborovom systéme je dobré používať metódu join z knižnice os - [Dokumentácia os.path.join](https://docs.python.org/3/library/os.path.html#os.path.join). Knižnica je vhodnejšia ako spájanie premenných typu string, pretože dáva pozor na správne oddelenie ciest podľa operačného systému.\n",
    "\n",
    "Načítanie datasetu do **DataFrame** sa vykoná priamo pomocou funkcie `read_csv` z knižnice **pandas** - [Dokumentácia read_csv](https://pandas.pydata.org/pandas-docs/stable/reference/api/pandas.read_csv.html).\n",
    "\n",
    "Kontrola správneho mačítania datasetu sa vykoná pomocou metódy `head` - [Dokumentácia head](https://pandas.pydata.org/pandas-docs/stable/reference/api/pandas.DataFrame.head.html)\n",
    "\n"
   ],
   "id": "df363e975335a1a4"
  },
  {
   "metadata": {
    "ExecuteTime": {
     "end_time": "2025-03-06T08:14:17.194364Z",
     "start_time": "2025-03-06T08:14:15.101476Z"
    }
   },
   "cell_type": "code",
   "source": [
    "import pandas as pd\n",
    "\n",
    "dataset_name = os.path.join(dataset_path, \"Impact_of_Remote_Work_on_Mental_Health.csv\")\n",
    "\n",
    "df = pd.read_csv(dataset_name)\n",
    "print(df.head())"
   ],
   "id": "5dbd60e8324a0d67",
   "outputs": [
    {
     "name": "stdout",
     "output_type": "stream",
     "text": [
      "  Employee_ID  Age      Gender           Job_Role    Industry  \\\n",
      "0     EMP0001   32  Non-binary                 HR  Healthcare   \n",
      "1     EMP0002   40      Female     Data Scientist          IT   \n",
      "2     EMP0003   59  Non-binary  Software Engineer   Education   \n",
      "3     EMP0004   27        Male  Software Engineer     Finance   \n",
      "4     EMP0005   49        Male              Sales  Consulting   \n",
      "\n",
      "   Years_of_Experience Work_Location  Hours_Worked_Per_Week  \\\n",
      "0                   13        Hybrid                     47   \n",
      "1                    3        Remote                     52   \n",
      "2                   22        Hybrid                     46   \n",
      "3                   20        Onsite                     32   \n",
      "4                   32        Onsite                     35   \n",
      "\n",
      "   Number_of_Virtual_Meetings  Work_Life_Balance_Rating Stress_Level  \\\n",
      "0                           7                         2       Medium   \n",
      "1                           4                         1       Medium   \n",
      "2                          11                         5       Medium   \n",
      "3                           8                         4         High   \n",
      "4                          12                         2         High   \n",
      "\n",
      "  Mental_Health_Condition Access_to_Mental_Health_Resources  \\\n",
      "0              Depression                                No   \n",
      "1                 Anxiety                                No   \n",
      "2                 Anxiety                                No   \n",
      "3              Depression                               Yes   \n",
      "4                     NaN                               Yes   \n",
      "\n",
      "  Productivity_Change  Social_Isolation_Rating Satisfaction_with_Remote_Work  \\\n",
      "0            Decrease                        1                   Unsatisfied   \n",
      "1            Increase                        3                     Satisfied   \n",
      "2           No Change                        4                   Unsatisfied   \n",
      "3            Increase                        3                   Unsatisfied   \n",
      "4            Decrease                        3                   Unsatisfied   \n",
      "\n",
      "   Company_Support_for_Remote_Work Physical_Activity Sleep_Quality  \\\n",
      "0                                1            Weekly          Good   \n",
      "1                                2            Weekly          Good   \n",
      "2                                5               NaN          Poor   \n",
      "3                                3               NaN          Poor   \n",
      "4                                3            Weekly       Average   \n",
      "\n",
      "          Region  \n",
      "0         Europe  \n",
      "1           Asia  \n",
      "2  North America  \n",
      "3         Europe  \n",
      "4  North America  \n"
     ]
    }
   ],
   "execution_count": 3
  },
  {
   "metadata": {},
   "cell_type": "markdown",
   "source": "**Úloha:** Zobrazte posledných 10 riadkov datasetu - [Dokumentácia tail](https://pandas.pydata.org/pandas-docs/stable/reference/api/pandas.DataFrame.tail.html)\n",
   "id": "ce8d22d28c1eef5c"
  },
  {
   "metadata": {
    "ExecuteTime": {
     "end_time": "2025-03-06T08:14:48.380832Z",
     "start_time": "2025-03-06T08:14:48.369127Z"
    }
   },
   "cell_type": "code",
   "source": [
    "# TODO\n",
    "print(df.tail(10))"
   ],
   "id": "f75705e447380efd",
   "outputs": [
    {
     "name": "stdout",
     "output_type": "stream",
     "text": [
      "     Employee_ID  Age             Gender         Job_Role    Industry  \\\n",
      "4990     EMP4991   58  Prefer not to say  Project Manager  Consulting   \n",
      "4991     EMP4992   60             Female   Data Scientist          IT   \n",
      "4992     EMP4993   55  Prefer not to say  Project Manager  Consulting   \n",
      "4993     EMP4994   35         Non-binary        Marketing      Retail   \n",
      "4994     EMP4995   40  Prefer not to say        Marketing          IT   \n",
      "4995     EMP4996   32               Male            Sales  Consulting   \n",
      "4996     EMP4997   39             Female            Sales  Healthcare   \n",
      "4997     EMP4998   42             Female            Sales  Healthcare   \n",
      "4998     EMP4999   27             Female            Sales  Healthcare   \n",
      "4999     EMP5000   29               Male               HR          IT   \n",
      "\n",
      "      Years_of_Experience Work_Location  Hours_Worked_Per_Week  \\\n",
      "4990                   10        Onsite                     45   \n",
      "4991                    9        Hybrid                     57   \n",
      "4992                   21        Hybrid                     45   \n",
      "4993                   12        Hybrid                     32   \n",
      "4994                   17        Hybrid                     52   \n",
      "4995                    4        Onsite                     24   \n",
      "4996                   27        Onsite                     48   \n",
      "4997                   21        Hybrid                     34   \n",
      "4998                   26        Remote                     58   \n",
      "4999                   30        Onsite                     20   \n",
      "\n",
      "      Number_of_Virtual_Meetings  Work_Life_Balance_Rating Stress_Level  \\\n",
      "4990                          10                         1         High   \n",
      "4991                           4                         2          Low   \n",
      "4992                           7                         2         High   \n",
      "4993                          13                         5       Medium   \n",
      "4994                           1                         2       Medium   \n",
      "4995                           2                         5         High   \n",
      "4996                          15                         1          Low   \n",
      "4997                           1                         4         High   \n",
      "4998                           0                         5          Low   \n",
      "4999                          15                         1          Low   \n",
      "\n",
      "     Mental_Health_Condition Access_to_Mental_Health_Resources  \\\n",
      "4990                     NaN                               Yes   \n",
      "4991                 Burnout                               Yes   \n",
      "4992                 Anxiety                                No   \n",
      "4993                     NaN                               Yes   \n",
      "4994                 Burnout                               Yes   \n",
      "4995                 Burnout                               Yes   \n",
      "4996              Depression                               Yes   \n",
      "4997                 Burnout                                No   \n",
      "4998                     NaN                               Yes   \n",
      "4999              Depression                               Yes   \n",
      "\n",
      "     Productivity_Change  Social_Isolation_Rating  \\\n",
      "4990            Increase                        5   \n",
      "4991            Increase                        4   \n",
      "4992           No Change                        2   \n",
      "4993            Decrease                        2   \n",
      "4994            Increase                        3   \n",
      "4995            Decrease                        4   \n",
      "4996            Decrease                        1   \n",
      "4997            Increase                        3   \n",
      "4998            Increase                        3   \n",
      "4999           No Change                        3   \n",
      "\n",
      "     Satisfaction_with_Remote_Work  Company_Support_for_Remote_Work  \\\n",
      "4990                   Unsatisfied                                3   \n",
      "4991                     Satisfied                                5   \n",
      "4992                     Satisfied                                3   \n",
      "4993                     Satisfied                                3   \n",
      "4994                       Neutral                                5   \n",
      "4995                       Neutral                                1   \n",
      "4996                     Satisfied                                1   \n",
      "4997                     Satisfied                                1   \n",
      "4998                   Unsatisfied                                4   \n",
      "4999                   Unsatisfied                                5   \n",
      "\n",
      "     Physical_Activity Sleep_Quality   Region  \n",
      "4990               NaN          Poor   Africa  \n",
      "4991            Weekly       Average  Oceania  \n",
      "4992             Daily          Poor   Africa  \n",
      "4993             Daily          Good     Asia  \n",
      "4994             Daily          Good  Oceania  \n",
      "4995            Weekly       Average     Asia  \n",
      "4996               NaN       Average   Africa  \n",
      "4997             Daily          Poor  Oceania  \n",
      "4998             Daily       Average     Asia  \n",
      "4999               NaN          Poor     Asia  \n"
     ]
    }
   ],
   "execution_count": 4
  },
  {
   "metadata": {},
   "cell_type": "markdown",
   "source": [
    "----\n",
    "\n",
    "## **4. Základná analýza datasetu**\n",
    "\n",
    "Po načítaní datasetu je vhodné vykonať základnú analýzu údajov, aby sme overili správne načítanie a získali prehľad o dátach.\n",
    "\n",
    "### **Zobrazenie základných štatistík**\n",
    "\n",
    "Zobrazenie základných štatistík o datasete pre stĺpce s číselnými hodnotami sa vykoná pomocou metódy `describe` - [Dokumentácia describe](https://pandas.pydata.org/pandas-docs/stable/reference/api/pandas.DataFrame.describe.html)\n"
   ],
   "id": "29ce2004ddf752ea"
  },
  {
   "metadata": {
    "ExecuteTime": {
     "end_time": "2025-03-06T08:16:10.566655Z",
     "start_time": "2025-03-06T08:16:10.508938Z"
    }
   },
   "cell_type": "code",
   "source": "print(df.describe())",
   "id": "7079cbe3405b46a3",
   "outputs": [
    {
     "name": "stdout",
     "output_type": "stream",
     "text": [
      "               Age  Years_of_Experience  Hours_Worked_Per_Week  \\\n",
      "count  5000.000000          5000.000000            5000.000000   \n",
      "mean     40.995000            17.810200              39.614600   \n",
      "std      11.296021            10.020412              11.860194   \n",
      "min      22.000000             1.000000              20.000000   \n",
      "25%      31.000000             9.000000              29.000000   \n",
      "50%      41.000000            18.000000              40.000000   \n",
      "75%      51.000000            26.000000              50.000000   \n",
      "max      60.000000            35.000000              60.000000   \n",
      "\n",
      "       Number_of_Virtual_Meetings  Work_Life_Balance_Rating  \\\n",
      "count                 5000.000000               5000.000000   \n",
      "mean                     7.559000                  2.984200   \n",
      "std                      4.636121                  1.410513   \n",
      "min                      0.000000                  1.000000   \n",
      "25%                      4.000000                  2.000000   \n",
      "50%                      8.000000                  3.000000   \n",
      "75%                     12.000000                  4.000000   \n",
      "max                     15.000000                  5.000000   \n",
      "\n",
      "       Social_Isolation_Rating  Company_Support_for_Remote_Work  \n",
      "count              5000.000000                      5000.000000  \n",
      "mean                  2.993800                         3.007800  \n",
      "std                   1.394615                         1.399046  \n",
      "min                   1.000000                         1.000000  \n",
      "25%                   2.000000                         2.000000  \n",
      "50%                   3.000000                         3.000000  \n",
      "75%                   4.000000                         4.000000  \n",
      "max                   5.000000                         5.000000  \n"
     ]
    }
   ],
   "execution_count": 5
  },
  {
   "metadata": {},
   "cell_type": "markdown",
   "source": "Zobrazenie základných štatistík o datasete pre všetky stĺpce sa vykoná pomocou metódy `info` - [Dokumentácia info](https://pandas.pydata.org/pandas-docs/stable/reference/api/pandas.DataFrame.info.html)",
   "id": "109794b4e05848a1"
  },
  {
   "metadata": {
    "ExecuteTime": {
     "end_time": "2025-03-06T08:16:13.402856Z",
     "start_time": "2025-03-06T08:16:13.356610Z"
    }
   },
   "cell_type": "code",
   "source": "print(df.info())",
   "id": "904cc551c7d0e773",
   "outputs": [
    {
     "name": "stdout",
     "output_type": "stream",
     "text": [
      "<class 'pandas.core.frame.DataFrame'>\n",
      "RangeIndex: 5000 entries, 0 to 4999\n",
      "Data columns (total 20 columns):\n",
      " #   Column                             Non-Null Count  Dtype \n",
      "---  ------                             --------------  ----- \n",
      " 0   Employee_ID                        5000 non-null   object\n",
      " 1   Age                                5000 non-null   int64 \n",
      " 2   Gender                             5000 non-null   object\n",
      " 3   Job_Role                           5000 non-null   object\n",
      " 4   Industry                           5000 non-null   object\n",
      " 5   Years_of_Experience                5000 non-null   int64 \n",
      " 6   Work_Location                      5000 non-null   object\n",
      " 7   Hours_Worked_Per_Week              5000 non-null   int64 \n",
      " 8   Number_of_Virtual_Meetings         5000 non-null   int64 \n",
      " 9   Work_Life_Balance_Rating           5000 non-null   int64 \n",
      " 10  Stress_Level                       5000 non-null   object\n",
      " 11  Mental_Health_Condition            3804 non-null   object\n",
      " 12  Access_to_Mental_Health_Resources  5000 non-null   object\n",
      " 13  Productivity_Change                5000 non-null   object\n",
      " 14  Social_Isolation_Rating            5000 non-null   int64 \n",
      " 15  Satisfaction_with_Remote_Work      5000 non-null   object\n",
      " 16  Company_Support_for_Remote_Work    5000 non-null   int64 \n",
      " 17  Physical_Activity                  3371 non-null   object\n",
      " 18  Sleep_Quality                      5000 non-null   object\n",
      " 19  Region                             5000 non-null   object\n",
      "dtypes: int64(7), object(13)\n",
      "memory usage: 781.4+ KB\n",
      "None\n"
     ]
    }
   ],
   "execution_count": 6
  },
  {
   "metadata": {},
   "cell_type": "markdown",
   "source": "**Úloha:** Skúste vypočítať medián pre všetky číselné stĺpce. Použite metódu median - [Dokumentácia median](https://pandas.pydata.org/pandas-docs/stable/reference/api/pandas.DataFrame.median.html). Je potrebné zvoliť iba číselné stĺpce.",
   "id": "603ce2b42723011b"
  },
  {
   "metadata": {
    "ExecuteTime": {
     "end_time": "2025-03-06T08:18:48.113324Z",
     "start_time": "2025-03-06T08:18:48.093088Z"
    }
   },
   "cell_type": "code",
   "source": [
    "# TODO\n",
    "print(df.median(numeric_only=True))\n"
   ],
   "id": "f6ebf5e680f616a3",
   "outputs": [
    {
     "name": "stdout",
     "output_type": "stream",
     "text": [
      "Age                                41.0\n",
      "Years_of_Experience                18.0\n",
      "Hours_Worked_Per_Week              40.0\n",
      "Number_of_Virtual_Meetings          8.0\n",
      "Work_Life_Balance_Rating            3.0\n",
      "Social_Isolation_Rating             3.0\n",
      "Company_Support_for_Remote_Work     3.0\n",
      "dtype: float64\n"
     ]
    }
   ],
   "execution_count": 8
  },
  {
   "metadata": {},
   "cell_type": "markdown",
   "source": [
    "### **Kontrola chýbajúcich údajov**\n",
    "\n",
    "Na kontrolu chýbajúcich údajov sa používa metóda `isnull` - [Dokumentácia isnull](https://pandas.pydata.org/pandas-docs/stable/reference/api/pandas.DataFrame.isnull.html).\n",
    "Táto metóda vráti hodnotu **True** pre každý riadok, ktorý obsahuje chýbajúce hodnoty.\n",
    "\n",
    "Metóda `sum` vráti počet chýbajúcich hodnôt pre každý stĺpec - [Dokumentácia sum](https://pandas.pydata.org/pandas-docs/stable/reference/api/pandas.DataFrame.sum.html)"
   ],
   "id": "7ed64ea39c3087f1"
  },
  {
   "metadata": {
    "ExecuteTime": {
     "end_time": "2025-03-06T08:18:53.826579Z",
     "start_time": "2025-03-06T08:18:53.812617Z"
    }
   },
   "cell_type": "code",
   "source": "print(df.isnull().sum())",
   "id": "141beda6dad5b137",
   "outputs": [
    {
     "name": "stdout",
     "output_type": "stream",
     "text": [
      "Employee_ID                             0\n",
      "Age                                     0\n",
      "Gender                                  0\n",
      "Job_Role                                0\n",
      "Industry                                0\n",
      "Years_of_Experience                     0\n",
      "Work_Location                           0\n",
      "Hours_Worked_Per_Week                   0\n",
      "Number_of_Virtual_Meetings              0\n",
      "Work_Life_Balance_Rating                0\n",
      "Stress_Level                            0\n",
      "Mental_Health_Condition              1196\n",
      "Access_to_Mental_Health_Resources       0\n",
      "Productivity_Change                     0\n",
      "Social_Isolation_Rating                 0\n",
      "Satisfaction_with_Remote_Work           0\n",
      "Company_Support_for_Remote_Work         0\n",
      "Physical_Activity                    1629\n",
      "Sleep_Quality                           0\n",
      "Region                                  0\n",
      "dtype: int64\n"
     ]
    }
   ],
   "execution_count": 9
  },
  {
   "metadata": {},
   "cell_type": "markdown",
   "source": "**Úloha:** Skúste odstrániť všetky riadky s chýbajúcimi hodnotami pomocou met=ody `dropna`- [Dokumentácia dropna](https://pandas.pydata.org/pandas-docs/stable/reference/api/pandas.DataFrame.dropna.html) Výsledok operácie uložte do premennej `clean_df`.",
   "id": "989151b94207863a"
  },
  {
   "metadata": {
    "ExecuteTime": {
     "end_time": "2025-03-06T08:22:50.350464Z",
     "start_time": "2025-03-06T08:22:50.324625Z"
    }
   },
   "cell_type": "code",
   "source": [
    "# TODO\n",
    "clen_df = df.dropna()\n",
    "print(clen_df.isnull().sum())"
   ],
   "id": "5f0929a570524cf8",
   "outputs": [
    {
     "name": "stdout",
     "output_type": "stream",
     "text": [
      "Employee_ID                          0\n",
      "Age                                  0\n",
      "Gender                               0\n",
      "Job_Role                             0\n",
      "Industry                             0\n",
      "Years_of_Experience                  0\n",
      "Work_Location                        0\n",
      "Hours_Worked_Per_Week                0\n",
      "Number_of_Virtual_Meetings           0\n",
      "Work_Life_Balance_Rating             0\n",
      "Stress_Level                         0\n",
      "Mental_Health_Condition              0\n",
      "Access_to_Mental_Health_Resources    0\n",
      "Productivity_Change                  0\n",
      "Social_Isolation_Rating              0\n",
      "Satisfaction_with_Remote_Work        0\n",
      "Company_Support_for_Remote_Work      0\n",
      "Physical_Activity                    0\n",
      "Sleep_Quality                        0\n",
      "Region                               0\n",
      "dtype: int64\n"
     ]
    }
   ],
   "execution_count": 11
  },
  {
   "metadata": {},
   "cell_type": "markdown",
   "source": [
    "### **Najčastejšie regióny v údajoch**\n",
    "\n",
    "Práca s konkrétnym stĺpcom sa vykonáva pomocou zápisu `názov_dataframe[\"názov_stĺpca\"]`. Pozor na veľké a malé písmená.\n",
    "\n",
    "Na zistenie najčastejšie sa vyskytujúcich hodnôt v stĺpci sa používa metóda `value_counts` - [Dokumentácia value_counts](https://pandas.pydata.org/pandas-docs/stable/reference/api/pandas.Series.value_counts.html). Táto metóda vráti počet výskytov pre každú hodnotu v stĺpci.\n"
   ],
   "id": "71de024e0ac06f8d"
  },
  {
   "metadata": {
    "ExecuteTime": {
     "end_time": "2025-03-06T08:22:57.130166Z",
     "start_time": "2025-03-06T08:22:57.110773Z"
    }
   },
   "cell_type": "code",
   "source": "print(df[\"Region\"].value_counts())",
   "id": "6a6805ec8daa3f60",
   "outputs": [
    {
     "name": "stdout",
     "output_type": "stream",
     "text": [
      "Region\n",
      "Oceania          867\n",
      "Africa           860\n",
      "Europe           840\n",
      "Asia             829\n",
      "South America    827\n",
      "North America    777\n",
      "Name: count, dtype: int64\n"
     ]
    }
   ],
   "execution_count": 12
  },
  {
   "metadata": {},
   "cell_type": "markdown",
   "source": "**Úloha:** Zobrazte 5 najčastejšie sa vyskytujúcich fyzických aktivít. Použite kombináciu metód `value_counts` a `head`.",
   "id": "1c78079f2dfe7fd8"
  },
  {
   "metadata": {},
   "cell_type": "code",
   "source": "# TODO\n",
   "id": "57c3a79a71b64d30",
   "outputs": [],
   "execution_count": null
  },
  {
   "metadata": {},
   "cell_type": "markdown",
   "source": [
    "### **Počet odpracovaných hodín za týždeň**\n",
    "\n",
    "Na zistenie počtu sa použije metóda `value_counts` - [Dokumentácia value_counts](https://pandas.pydata.org/pandas-docs/stable/reference/api/pandas.Series.value_counts.html).\n",
    "\n",
    "Pre zoradenie hodnôt podľa indexu sa použije metóda `sort_index` - [Dokumentácia sort_index](https://pandas.pydata.org/pandas-docs/stable/reference/api/pandas.DataFrame.sort_index.html)."
   ],
   "id": "cc08578f1600c66a"
  },
  {
   "metadata": {},
   "cell_type": "code",
   "source": "print(df[\"Hours_Worked_Per_Week\"].value_counts().sort_index())",
   "id": "9f9156a5f76385a6",
   "outputs": [],
   "execution_count": null
  },
  {
   "metadata": {},
   "cell_type": "markdown",
   "source": "**Úloha:** Zoraďte počet odpracovaných hodín zostupne. Použite metódu `sort_values` - [Dokumentácia sort_values()](https://pandas.pydata.org/pandas-docs/stable/reference/api/pandas.DataFrame.sort_values.html), ktorá zoradí hodnoty podľa počtu výskytov.",
   "id": "dde18c8559da26e6"
  },
  {
   "metadata": {
    "ExecuteTime": {
     "end_time": "2025-03-06T08:26:04.415714Z",
     "start_time": "2025-03-06T08:26:04.362753Z"
    }
   },
   "cell_type": "code",
   "source": [
    "# TODO\n",
    "print(df[\"Hours_Worked_Per_Week\"].value_counts().sort_values())"
   ],
   "id": "568022f579e5204b",
   "outputs": [
    {
     "name": "stdout",
     "output_type": "stream",
     "text": [
      "Hours_Worked_Per_Week\n",
      "58    104\n",
      "51    104\n",
      "30    108\n",
      "52    111\n",
      "26    112\n",
      "38    112\n",
      "60    112\n",
      "34    113\n",
      "29    113\n",
      "43    115\n",
      "55    115\n",
      "37    116\n",
      "44    119\n",
      "47    119\n",
      "54    119\n",
      "42    120\n",
      "40    120\n",
      "50    120\n",
      "46    121\n",
      "21    121\n",
      "39    121\n",
      "31    122\n",
      "35    122\n",
      "56    122\n",
      "48    123\n",
      "57    123\n",
      "59    123\n",
      "45    125\n",
      "24    125\n",
      "27    127\n",
      "53    127\n",
      "36    128\n",
      "23    128\n",
      "49    129\n",
      "25    129\n",
      "41    133\n",
      "33    135\n",
      "32    136\n",
      "20    137\n",
      "22    142\n",
      "28    149\n",
      "Name: count, dtype: int64\n"
     ]
    }
   ],
   "execution_count": 13
  },
  {
   "metadata": {},
   "cell_type": "markdown",
   "source": [
    "---\n",
    "\n",
    "## **5. Vizualizácia údajov**\n",
    "\n",
    "Na vizualizáciu využijeme knižnicu **matplotlib**. Táto knižnica umožňuje vytvárať rôzne typy grafov a vizualizácií.\n",
    "\n",
    "Metóda `figure` umožňuje nastaviť veľkosť grafu - [Dokumentácia figure](https://matplotlib.org/stable/api/_as_gen/matplotlib.pyplot.figure.html).\n",
    "\n",
    "Metóda `plot` umožňuje vytvárať rôzne typy grafov - [Dokumentácia plot](https://pandas.pydata.org/pandas-docs/stable/reference/api/pandas.DataFrame.plot.html).\n",
    "\n",
    "Súčasti grafu (názvy osí, titulok) sa nastavujú pomocou metód `xlabel`, `ylabel`, `title` - [Dokumentácia xlabel](https://matplotlib.org/stable/api/_as_gen/matplotlib.pyplot.xlabel.html), [Dokumentácia ylabel](https://matplotlib.org/stable/api/_as_gen/matplotlib.pyplot.ylabel.html), [Dokumentácia title](https://matplotlib.org/stable/api/_as_gen/matplotlib.pyplot.title.html), a ďalších.\n",
    "\n",
    "Pre zobrazenie grafov je potrebné použiť metódu `show` - [Dokumentácia show](https://matplotlib.org/stable/api/_as_gen/matplotlib.pyplot.show.html).\n"
   ],
   "id": "935c29a8e874304"
  },
  {
   "metadata": {
    "ExecuteTime": {
     "end_time": "2025-03-06T08:26:38.067295Z",
     "start_time": "2025-03-06T08:26:34.587017Z"
    }
   },
   "cell_type": "code",
   "source": [
    "import matplotlib.pyplot as plt\n",
    "\n",
    "plt.figure(figsize=(10, 5))\n",
    "df[\"Mental_Health_Condition\"].value_counts().head(10).plot(kind='bar')\n",
    "\n",
    "plt.title(\"Najčastejšie zdravotné stavy\")\n",
    "plt.xlabel(\"Zdravotný stav\")\n",
    "plt.ylabel(\"Počet záznamov\")\n",
    "plt.show()"
   ],
   "id": "b4bf29958c80c987",
   "outputs": [
    {
     "data": {
      "text/plain": [
       "<Figure size 1000x500 with 1 Axes>"
      ],
      "image/png": "[encoded data removed]"
     },
     "metadata": {},
     "output_type": "display_data"
    }
   ],
   "execution_count": 14
  },
  {
   "metadata": {},
   "cell_type": "markdown",
   "source": "**Úloha:** Vytvorte koláčový graf pre rôzne pracovné pozície a nastavte mu názov.",
   "id": "28c607ea14f0c54e"
  },
  {
   "metadata": {
    "ExecuteTime": {
     "end_time": "2025-03-06T08:30:22.791439Z",
     "start_time": "2025-03-06T08:30:22.621765Z"
    }
   },
   "cell_type": "code",
   "source": [
    "# TODO\n",
    "\n",
    "import matplotlib.pyplot as plt\n",
    "\n",
    "plt.figure(figsize=(10, 5))\n",
    "df[\"Job_Role\"].value_counts().plot(kind='pie')\n",
    "\n",
    "plt.title(\"Pracovne pozicie\")\n",
    "plt.show()"
   ],
   "id": "b91d5048227d6348",
   "outputs": [
    {
     "data": {
      "text/plain": [
       "<Figure size 1000x500 with 1 Axes>"
      ],
      "image/png": "[encoded data removed]"
     },
     "metadata": {},
     "output_type": "display_data"
    }
   ],
   "execution_count": 18
  },
  {
   "metadata": {},
   "cell_type": "markdown",
   "source": [
    "**Úloha:** Vytvorte horizontálny čiarový graf pre rôzne levely stresu na pozícii Software Engineer.\n",
    "\n",
    "Hint:\n",
    "Najskôr vyfiltrujte v DataFrame záznamy pre pozíciu Software Engineer a potom zistite počet záznamov pre jednotlivé levely stresu.\n",
    "Filtrovanie sa vykoná pomocou zápisu `df[df[\"stĺpec\"] == \"hodnota\"]`.\n"
   ],
   "id": "f0a1844c919b5069"
  },
  {
   "metadata": {
    "ExecuteTime": {
     "end_time": "2025-03-06T08:34:18.871136Z",
     "start_time": "2025-03-06T08:34:18.542723Z"
    }
   },
   "cell_type": "code",
   "source": [
    "# TODO\n",
    "\n",
    "df[df[\"Job_Role\"] == \"Software Engineer\"][\"Stress_Level\"].value_counts().plot(kind='pie')\n",
    "\n",
    "\n",
    "plt.title(\"Pracovne pozicie\")\n",
    "plt.show()"
   ],
   "id": "3f0ca40d983dd8ce",
   "outputs": [
    {
     "data": {
      "text/plain": [
       "<Figure size 640x480 with 1 Axes>"
      ],
      "image/png": "[encoded data removed]"
     },
     "metadata": {},
     "output_type": "display_data"
    }
   ],
   "execution_count": 20
  },
  {
   "metadata": {},
   "cell_type": "markdown",
   "source": [
    "---\n",
    "\n",
    "#### Ďalšie príklady spracovania tohto datasetu\n",
    "\n",
    "https://www.kaggle.com/code/waqi786/remote-work-mental-health-eda\n",
    "\n",
    "https://www.kaggle.com/code/pavankumar4757/remote-work-mental-health-analysis\n",
    "\n",
    "https://www.kaggle.com/code/saifsalama/remote-work-mental-health-eda"
   ],
   "id": "9bed3bd513a6fdbe"
  }
 ],
 "metadata": {
  "kernelspec": {
   "display_name": "Python 3",
   "language": "python",
   "name": "python3"
  },
  "language_info": {
   "codemirror_mode": {
    "name": "ipython",
    "version": 2
   },
   "file_extension": ".py",
   "mimetype": "text/x-python",
   "name": "python",
   "nbconvert_exporter": "python",
   "pygments_lexer": "ipython2",
   "version": "2.7.6"
  }
 },
 "nbformat": 4,
 "nbformat_minor": 5
}
